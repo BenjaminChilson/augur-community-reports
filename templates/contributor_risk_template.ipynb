{
 "cells": [
  {
   "cell_type": "markdown",
   "metadata": {},
   "source": [
    "# Contributor Risk Analysis\n",
    "\n",
    "Learn whether you have enough contributors to sustain the project if a key contributor won the lottery and retired on a beach.\n",
    "\n",
    "You can also use this data to identify contributors who might be good candidates for mentoring to expand their contributions or help them move into leadership roles.\n",
    "\n",
    "Fill in the values under `## Control Cell - Set Variables and Filters` for repo_id, and time period to suit your question. "
   ]
  },
  {
   "cell_type": "markdown",
   "metadata": {},
   "source": [
    "# Setting up database connection and imports"
   ]
  },
  {
   "cell_type": "code",
   "execution_count": null,
   "metadata": {},
   "outputs": [],
   "source": [
    "import psycopg2\n",
    "import pandas as pd \n",
    "import sqlalchemy as s\n",
    "import json\n",
    "import warnings\n",
    "import seaborn as sns\n",
    "import matplotlib\n",
    "import matplotlib.pyplot as plt\n",
    "import textwrap\n",
    "from datetime import datetime, timezone"
   ]
  },
  {
   "cell_type": "code",
   "execution_count": null,
   "metadata": {},
   "outputs": [],
   "source": [
    "warnings.filterwarnings('ignore')\n",
    "\n",
    "with open(\"config.json\") as config_file:\n",
    "    config = json.load(config_file)\n",
    "\n",
    "database_connection_string = 'postgresql+psycopg2://{}:{}@{}:{}/{}'.format(config['user'], config['password'], config['host'], config['port'], config['database'])\n",
    "\n",
    "dbschema='augur_data'\n",
    "engine = s.create_engine(\n",
    "    database_connection_string,\n",
    "    connect_args={'options': '-csearch_path={}'.format(dbschema)})"
   ]
  },
  {
   "cell_type": "markdown",
   "metadata": {},
   "source": [
    "## Control Cell - Set Variables and Filters"
   ]
  },
  {
   "cell_type": "code",
   "execution_count": null,
   "metadata": {},
   "outputs": [],
   "source": [
    "# Provide the repo_id for the analysis\n",
    "repo_id = 25634\n",
    "\n",
    "# Thresholds for how many contributors you think should make up a certain percent of the commits\n",
    "# The default is that a healthy project will have at least 3 contributors combined who are \n",
    "# making no more than 70% of the commits.\n",
    "# For smaller projects, you might set this at 2 contributors. \n",
    "# For larger projects, you might want 5 contributors making no more than 50% of the commits.\n",
    "num_contrib = 3\n",
    "max_percent = .70\n",
    "\n",
    "#specify dates for filtering - a typical default would be one year of data\n",
    "#if the end_date is in the future, the end_date will default to the current_date\n",
    "begin_date = '2021-02-01'\n",
    "end_date = '2022-01-31'"
   ]
  },
  {
   "cell_type": "markdown",
   "metadata": {},
   "source": [
    "# Gathering and Processing the Data\n",
    "\n",
    "## Getting the data from your Augur database and storing it in a dataframe\n",
    "\n",
    "**Important note: You may need to edit this query to exclude additional bots with unexpected names.**"
   ]
  },
  {
   "cell_type": "code",
   "execution_count": null,
   "metadata": {},
   "outputs": [],
   "source": [
    "#Commit data - from humans excluding known bots\n",
    "commitsDF = pd.DataFrame()\n",
    "commitsquery = f\"\"\"\n",
    "                SELECT\n",
    "                    DISTINCT(cmt_commit_hash),\n",
    "                    contributors.cntrb_canonical,\n",
    "                    canonical_full_names.cntrb_full_name AS canonical_full_name,\n",
    "                    cmt_author_name, cmt_author_email, repo_id, cmt_author_timestamp \n",
    "                FROM commits \n",
    "                    LEFT OUTER JOIN contributors ON cntrb_email = cmt_author_email left outer join \n",
    "                    (\n",
    "                        SELECT distinct on (cntrb_canonical) cntrb_full_name, cntrb_canonical, data_collection_date\n",
    "                        FROM contributors\n",
    "                        WHERE cntrb_canonical = cntrb_email\n",
    "                        order by cntrb_canonical\n",
    "                    ) canonical_full_names on canonical_full_names.cntrb_canonical = contributors.cntrb_canonical\n",
    "                WHERE \n",
    "                    repo_id = {repo_id}\n",
    "                    AND cmt_author_name NOT LIKE '%%bot'\n",
    "                    AND cmt_author_name NOT LIKE '%%Bot'\n",
    "                    AND cmt_author_name NOT LIKE '%%BOT'\n",
    "                    AND cmt_author_name NOT LIKE 'dependabot%%'\n",
    "                    AND cmt_author_name NOT LIKE 'gerrit%%'\n",
    "                    AND cmt_author_name NOT LIKE '%%utomation%%'\n",
    "                    AND cmt_author_name NOT LIKE '%%ipeline%%'\n",
    "                ORDER BY\n",
    "                    cntrb_canonical;\n",
    "                \"\"\"\n",
    "\n",
    "end_dt = datetime.strptime(end_date, '%Y-%m-%d').replace(tzinfo=timezone.utc)\n",
    "begin_dt = datetime.strptime(begin_date, '%Y-%m-%d').replace(tzinfo=timezone.utc)\n",
    "\n",
    "all_commitsDF = pd.read_sql_query(commitsquery, con=engine)\n",
    "commitsDF = all_commitsDF[(all_commitsDF['cmt_author_timestamp'] >= begin_dt) & (all_commitsDF['cmt_author_timestamp'] <= end_dt)]\n",
    "total_commits = commitsDF.cmt_commit_hash.nunique()   \n",
    "\n",
    "dedupDF = commitsDF.drop_duplicates(subset=['cmt_commit_hash'], inplace = False, keep=\"first\")\n",
    "\n",
    "authorDF = pd.DataFrame()\n",
    "authorDF = dedupDF.canonical_full_name.value_counts()\n",
    "authorDF = authorDF.reset_index()\n",
    "authorDF.columns = ['name', 'commits']\n",
    "authorDF['percent'] = authorDF['commits'] / total_commits\n",
    "\n",
    "# The repo_name is only used to add to the title of the graph.\n",
    "get_repo_name_query = f\"\"\"\n",
    "    SELECT repo_name from repo where repo_id = {repo_id};\n",
    "       \"\"\"\n",
    "get_repo_name = pd.read_sql_query(get_repo_name_query, con=engine)\n",
    "repo_name = get_repo_name.repo_name[0]"
   ]
  },
  {
   "cell_type": "markdown",
   "metadata": {},
   "source": [
    "## Calculating Contributor Risk and Adding Analysis to the Title"
   ]
  },
  {
   "cell_type": "code",
   "execution_count": null,
   "metadata": {},
   "outputs": [],
   "source": [
    "cum_percent = 0\n",
    "people_list = []\n",
    "\n",
    "i = 1\n",
    "num_people = 0\n",
    "\n",
    "for item in authorDF.iterrows():\n",
    "    name = item[1]['name']\n",
    "    percent = item[1]['percent']\n",
    "    commits = item[1]['commits']\n",
    "\n",
    "    cum_percent += percent\n",
    "\n",
    "    people_list.append([name, percent, commits])\n",
    "\n",
    "    if (cum_percent > max_percent and num_people == 0):\n",
    "        num_people = i\n",
    "        risk_percent = cum_percent\n",
    "\n",
    "    if i == 8:\n",
    "        if cum_percent <= max_percent:\n",
    "            risk_percent = cum_percent\n",
    "            num_people = i\n",
    "        break\n",
    "    i+=1\n",
    "\n",
    "risk_list = []\n",
    "bar_colors = []\n",
    "\n",
    "j = 1\n",
    "for person in people_list:\n",
    "    name = person[0]\n",
    "    if len(name) > 15:\n",
    "        new_name = textwrap.wrap(name, 15)\n",
    "        name = '\\n'.join(new_name)\n",
    "    percent = person[1]\n",
    "    commits = person[2]\n",
    "    risk_list.append([name, percent, commits])\n",
    "\n",
    "    if (num_people < num_contrib and j <= num_people):\n",
    "        bar_colors.append('red')\n",
    "    else:\n",
    "        bar_colors.append('lightblue')\n",
    "\n",
    "    j+=1\n",
    "\n",
    "names = [item[0] for item in risk_list]\n",
    "percents = [item[1] for item in risk_list]\n",
    "commits = [item[2] for item in risk_list]\n",
    "\n",
    "title = repo_name + \"\\nContributor Risk: \"\n",
    "\n",
    "if num_people < num_contrib:\n",
    "    risk = 'AT RISK'\n",
    "    title += \"AT RISK\"\n",
    "    title_color = 'firebrick'\n",
    "else:\n",
    "    risk = 'HEALTHY'\n",
    "    title += \"Healthy\"\n",
    "    title_color = 'forestgreen'\n",
    "\n",
    "title += \"\\n\" + str(num_people) + \" people made up \" + \"{:.0%}\".format(risk_percent) + \" of the commits from \" + begin_date + \" to \" + end_date + \".\\n\"\n",
    "\n",
    "max_perc_str = \"{:.0%}\".format(max_percent)\n",
    "interpretation = 'Interpretation: Healthy projects should have at minimum ' + str(num_contrib) + ' people who combined account for the majority (>' + max_perc_str + ') of the commits.\\nThe higher this number is, the more likely your project would succeed if a leading contributor suddenly left the project.\\nRed bars indicate when less than ' + str(num_contrib) + ' people made ' + max_perc_str + ' of the commits. Light blue for other contributors.'\n"
   ]
  },
  {
   "cell_type": "markdown",
   "metadata": {},
   "source": [
    "# Plotting the Results"
   ]
  },
  {
   "cell_type": "code",
   "execution_count": null,
   "metadata": {},
   "outputs": [],
   "source": [
    "sns.set_style('ticks')\n",
    "sns.set(style=\"whitegrid\", font_scale=2)\n",
    "\n",
    "fig, ax = plt.subplots()\n",
    "\n",
    "# the size of A4 paper\n",
    "fig.set_size_inches(24, 8)\n",
    "\n",
    "risk_bar = sns.barplot(x=names, y=commits, palette=bar_colors).set_title(title, fontsize=30, color=title_color)\n",
    "\n",
    "risk_bar_labels = ax.set_xticklabels(names, wrap=True)\n",
    "risk_bar_labels = ax.set_ylabel('Commits')\n",
    "xlabel_str = '\\nKey Contributors\\n\\n' + interpretation\n",
    "risk_bar_labels = ax.set_xlabel(xlabel_str)\n",
    "\n",
    "i = 0\n",
    "for p in ax.patches:\n",
    "    ax.annotate(\"{:.0%}\".format(percents[i]), (p.get_x() + p.get_width() / 2., p.get_height()),\n",
    "        ha='center', va='center', color='gray', xytext=(0, 20),\n",
    "        textcoords='offset points')\n",
    "    i+=1\n"
   ]
  },
  {
   "cell_type": "markdown",
   "metadata": {},
   "source": [
    "## Optional step if you would like to save the figure"
   ]
  },
  {
   "cell_type": "code",
   "execution_count": null,
   "metadata": {},
   "outputs": [],
   "source": [
    "fig.savefig('output/contrib_risk.png', bbox_inches='tight')"
   ]
  },
  {
   "cell_type": "code",
   "execution_count": null,
   "metadata": {},
   "outputs": [],
   "source": [
    "!open output/contrib_risk.png"
   ]
  },
  {
   "cell_type": "code",
   "execution_count": null,
   "metadata": {},
   "outputs": [],
   "source": []
  }
 ],
 "metadata": {
  "kernelspec": {
   "display_name": "Python 3",
   "language": "python",
   "name": "python3"
  },
  "language_info": {
   "codemirror_mode": {
    "name": "ipython",
    "version": 3
   },
   "file_extension": ".py",
   "mimetype": "text/x-python",
   "name": "python",
   "nbconvert_exporter": "python",
   "pygments_lexer": "ipython3",
   "version": "3.9.10"
  }
 },
 "nbformat": 4,
 "nbformat_minor": 4
}
